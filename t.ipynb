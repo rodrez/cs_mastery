{
 "cells": [
  {
   "cell_type": "code",
   "execution_count": 13,
   "metadata": {},
   "outputs": [
    {
     "name": "stdout",
     "output_type": "stream",
     "text": [
      "dict_values([['eat', 'tea', 'ate'], ['tan', 'nat'], ['bat']])\n"
     ]
    }
   ],
   "source": [
    "from collections import defaultdict\n",
    "a = [\"eat\",\"tea\",\"tan\",\"ate\",\"nat\",\"bat\"]\n",
    "\n",
    "def group_anagram(array):\n",
    "# Input: strs = \n",
    "# Output: [[\"bat\"],[\"nat\",\"tan\"],[\"ate\",\"eat\",\"tea\"]]\n",
    "# Loop trough array \n",
    "# Loop through words\n",
    "# Match the position of each letter to an index of an array\n",
    "# Increase the count \n",
    "# Use the array with the counts as the key for the default dict and append the words to that key \n",
    "#  \n",
    "    hashmap = defaultdict(list)\n",
    "    for word in array:\n",
    "        temp = [0] * 26\n",
    "        for letter in word:\n",
    "            temp[ord(letter) - ord('a')] = temp[ord(letter) - 97] + 1\n",
    "        \n",
    "        hashmap[tuple(temp)].append(word)\n",
    "\n",
    "    print(hashmap.values())\n",
    "\n",
    "group_anagram(a)"
   ]
  },
  {
   "cell_type": "code",
   "execution_count": 17,
   "metadata": {},
   "outputs": [
    {
     "name": "stdout",
     "output_type": "stream",
     "text": [
      "dict_values([['eat', 'tea', 'ate'], ['tan', 'nat'], ['bat']])\n"
     ]
    }
   ],
   "source": [
    "from collections import defaultdict\n",
    "a = [\"eat\",\"tea\",\"tan\",\"ate\",\"nat\",\"bat\"]\n",
    "\n",
    "# Input: strs = \n",
    "# Output: [[\"bat\"],[\"nat\",\"tan\"],[\"ate\",\"eat\",\"tea\"]]\n",
    "# Loop through the array\n",
    "# sort the word\n",
    "# use the sorted word as key in hash map, don't forget to make it a tuple\n",
    "# Add word to the key\n",
    "def sorted_group_anagram(array):\n",
    "    hashmap = {}\n",
    "    for word in array:\n",
    "        sorted_word = tuple(sorted(word))\n",
    "\n",
    "        hashmap[sorted_word] = hashmap.get(sorted_word, []) + [word] \n",
    "    \n",
    "    print(hashmap.values())\n",
    "\n",
    "sorted_group_anagram(a)"
   ]
  },
  {
   "cell_type": "code",
   "execution_count": null,
   "metadata": {},
   "outputs": [],
   "source": []
  }
 ],
 "metadata": {
  "interpreter": {
   "hash": "aee8b7b246df8f9039afb4144a1f6fd8d2ca17a180786b69acc140d282b71a49"
  },
  "kernelspec": {
   "display_name": "Python 3.10.0b1 64-bit",
   "language": "python",
   "name": "python3"
  },
  "language_info": {
   "codemirror_mode": {
    "name": "ipython",
    "version": 3
   },
   "file_extension": ".py",
   "mimetype": "text/x-python",
   "name": "python",
   "nbconvert_exporter": "python",
   "pygments_lexer": "ipython3",
   "version": "3.10.0"
  },
  "orig_nbformat": 4
 },
 "nbformat": 4,
 "nbformat_minor": 2
}
