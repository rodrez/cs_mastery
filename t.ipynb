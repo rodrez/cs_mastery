{
 "cells": [
  {
   "cell_type": "code",
   "execution_count": null,
   "metadata": {},
   "outputs": [],
   "source": [
    "# For example: [1, 3, 2, 3] would be strictly increasing if the element at index 1 were removed.\n",
    "# [1, 2, 1, 2] is not almost increasing because if you removed the first '2', \n",
    "# you would get [1, 1, 2] which is not strictly increasing.\n",
    "\n",
    "def solution(nums):\n",
    "    # check if the number to the right - number on the left == 1 <- This tell us if there is no gap\n",
    "    \n",
    "    for i in range(len(nums)):\n",
    "        curr = nums[i]\n",
    "        if nums[i] + - curr != 1:\n",
    "            print(\"There is a gap\")\n",
    "\n",
    "\n",
    "print(solution([1, 3, 2, 3]))    \n",
    "print(solution([1, 2, 1, 2]))    \n",
    "print(solution([1, 1, 2]))    "
   ]
  }
 ],
 "metadata": {
  "kernelspec": {
   "display_name": "Python 3.9.12 ('cs_mastery-idbgCY6q')",
   "language": "python",
   "name": "python3"
  },
  "language_info": {
   "codemirror_mode": {
    "name": "ipython",
    "version": 3
   },
   "file_extension": ".py",
   "mimetype": "text/x-python",
   "name": "python",
   "nbconvert_exporter": "python",
   "pygments_lexer": "ipython3",
   "version": "3.9.12"
  },
  "orig_nbformat": 4,
  "vscode": {
   "interpreter": {
    "hash": "b3aa465145eb1f66b7a5a86ed4755481d095e0655afcdd5cb3208171718cb2bf"
   }
  }
 },
 "nbformat": 4,
 "nbformat_minor": 2
}
